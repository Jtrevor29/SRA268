{
  "nbformat": 4,
  "nbformat_minor": 0,
  "metadata": {
    "colab": {
      "name": "SnowGraphLab1.ipynb",
      "provenance": [],
      "authorship_tag": "ABX9TyOIUm2FELv7LT3F7aL8p9ok",
      "include_colab_link": true
    },
    "kernelspec": {
      "name": "python3",
      "display_name": "Python 3"
    }
  },
  "cells": [
    {
      "cell_type": "markdown",
      "metadata": {
        "id": "view-in-github",
        "colab_type": "text"
      },
      "source": [
        "<a href=\"https://colab.research.google.com/github/Jtrevor29/SRA268/blob/master/SnowGraphLab1.ipynb\" target=\"_parent\"><img src=\"https://colab.research.google.com/assets/colab-badge.svg\" alt=\"Open In Colab\"/></a>"
      ]
    },
    {
      "cell_type": "markdown",
      "metadata": {
        "id": "kzmoGY4lJAjG",
        "colab_type": "text"
      },
      "source": [
        "#Snow Precipitation 2017"
      ]
    },
    {
      "cell_type": "markdown",
      "metadata": {
        "id": "tzY2QnyBJKzL",
        "colab_type": "text"
      },
      "source": [
        "As we look back at our data for snow precipitation for the first 6 months of 2017, we try to make sense of our data. Our data reported a lot of zeros and very low numbers (in inches) of snow fall. We observe our data and organize it into a more read able data set."
      ]
    },
    {
      "cell_type": "markdown",
      "metadata": {
        "id": "PsBY3q8jO5eF",
        "colab_type": "text"
      },
      "source": [
        "![SnowGraph](https://raw.githubusercontent.com/Jtrevor29/Snow/master/image/IMG_0656.jpg)"
      ]
    },
    {
      "cell_type": "markdown",
      "metadata": {
        "id": "aVYPLX8SPbtw",
        "colab_type": "text"
      },
      "source": [
        "In conclusion we notice a very sudden spike in snow precipitation in the month of March near the end of winter and then the snow precipitation suddenly drop as we enter the spring months into the summer months. This graph shows all of the snowfall of the first 6 months of 2017 and the highest recorded precipitation was in March with the record of 15.7 inches.  "
      ]
    }
  ]
}