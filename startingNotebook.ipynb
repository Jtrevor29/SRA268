{
  "nbformat": 4,
  "nbformat_minor": 0,
  "metadata": {
    "colab": {
      "name": "startingNotebook.ipynb",
      "provenance": [],
      "collapsed_sections": [],
      "authorship_tag": "ABX9TyOn1VFO5eBGAlg6ufEqepGL",
      "include_colab_link": true
    },
    "kernelspec": {
      "name": "python3",
      "display_name": "Python 3"
    }
  },
  "cells": [
    {
      "cell_type": "markdown",
      "metadata": {
        "id": "view-in-github",
        "colab_type": "text"
      },
      "source": [
        "<a href=\"https://colab.research.google.com/github/Jtrevor29/SRA268/blob/master/startingNotebook.ipynb\" target=\"_parent\"><img src=\"https://colab.research.google.com/assets/colab-badge.svg\" alt=\"Open In Colab\"/></a>"
      ]
    },
    {
      "cell_type": "code",
      "metadata": {
        "id": "2YYS9WE14r8v",
        "colab_type": "code",
        "colab": {
          "base_uri": "https://localhost:8080/",
          "height": 34
        },
        "outputId": "c86b3613-af5b-4768-a14b-ca89faa3bd07"
      },
      "source": [
        "2+2"
      ],
      "execution_count": 1,
      "outputs": [
        {
          "output_type": "execute_result",
          "data": {
            "text/plain": [
              "4"
            ]
          },
          "metadata": {
            "tags": []
          },
          "execution_count": 1
        }
      ]
    },
    {
      "cell_type": "markdown",
      "metadata": {
        "id": "GJT4WgfD54KR",
        "colab_type": "text"
      },
      "source": [
        "#abstract"
      ]
    },
    {
      "cell_type": "markdown",
      "metadata": {
        "id": "LT5AVKve573g",
        "colab_type": "text"
      },
      "source": [
        "something in abstract"
      ]
    },
    {
      "cell_type": "markdown",
      "metadata": {
        "id": "cTvfKWu46CGj",
        "colab_type": "text"
      },
      "source": [
        "![image of linkedIN](https://raw.githubusercontent.com/Jtrevor29/SRA268/master/IMAGES/linkedin2.jpg)"
      ]
    }
  ]
}